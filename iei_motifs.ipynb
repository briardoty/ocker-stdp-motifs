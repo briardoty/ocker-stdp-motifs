{
 "cells": [
  {
   "cell_type": "code",
   "execution_count": 1,
   "metadata": {},
   "outputs": [],
   "source": [
    "from brian2 import *\n",
    "from util.visualization_functions import *\n",
    "from util.analysis_functions import *\n",
    "import brian2.numpy_ as np\n",
    "from networkx import nx\n",
    "%matplotlib inline\n",
    "\n",
    "#set_device('cpp_standalone', clean=True) # for C++ speedup\n",
    "# prefs.devices.cpp_standalone.openmp_threads = 4 # number of threads; needs openmp"
   ]
  },
  {
   "cell_type": "code",
   "execution_count": 2,
   "metadata": {},
   "outputs": [
    {
     "name": "stderr",
     "output_type": "stream",
     "text": [
      "WARNING    /Users/julienbloch/miniconda3/lib/python3.6/site-packages/Cython/Compiler/Main.py:369: FutureWarning: Cython directive 'language_level' not set, using 2 for now (Py2). This will change in a later release! File: /Users/julienbloch/Library/Caches/cython/brian_extensions/_cython_magic_e8960b16157517882c96830725846949.pyx\n",
      "  tree = Parsing.p_module(s, pxd, full_module_name)\n",
      " [py.warnings]\n",
      "clang: warning: libstdc++ is deprecated; move to libc++ with a minimum deployment target of OS X 10.9 [-Wdeprecated]\n",
      "ld: library not found for -lstdc++\n",
      "clang: error: linker command failed with exit code 1 (use -v to see invocation)\n",
      "WARNING    Cannot use Cython, a test compilation failed: command 'g++' failed with exit status 1 (LinkError) [brian2.codegen.runtime.cython_rt.cython_rt.failed_compile_test]\n",
      "INFO       Cannot use compiled code, falling back to the numpy code generation target. Note that this will likely be slower than using compiled code. Set the code generation to numpy manually to avoid this message:\n",
      "prefs.codegen.target = \"numpy\" [brian2.devices.device.codegen_fallback]\n"
     ]
    },
    {
     "name": "stdout",
     "output_type": "stream",
     "text": [
      "Starting simulation at t=0. s for a duration of 10. s\n",
      "1.7038 (17%) simulated in 10s, estimated 49s remaining.\n",
      "3.3267999999999995 (33%) simulated in 20s, estimated 40s remaining.\n",
      "4.7657 (47%) simulated in 30s, estimated 33s remaining.\n",
      "6.080100000000001 (60%) simulated in 40s, estimated 26s remaining.\n",
      "7.364800000000001 (73%) simulated in 50s, estimated 18s remaining.\n",
      "8.613900000000001 (86%) simulated in 1m 0s, estimated 10s remaining.\n",
      "10.0 (100%) simulated in 1m 9s\n"
     ]
    }
   ],
   "source": [
    "# recreate the simulation used in Ocker 2015, adding inhibitory neurons\n",
    "\n",
    "start_scope()\n",
    "\n",
    "# model parameters\n",
    "gL = .1 * msiemens * cm**-2                # leak conductance\n",
    "vL = -72 * mV                              # leak reversal potential\n",
    "C = 1 * ufarad * cm**-2                    # membrane capacitance\n",
    "delta = 1.4 * mV                           # action potential steepness\n",
    "vT = -48 * mV                              # action potential initiation threshold\n",
    "mu = 1 * uamp * cm**-2                     # noise mean\n",
    "sigma = 9 * mV                             # noise std dev\n",
    "tau_s = 5 * ms                             # synaptic time constant\n",
    "           \n",
    "# other cell params           \n",
    "vTh = 30 * mV                              # spike threshold\n",
    "vR = -72 * mV                              # reset potential\n",
    "tRef = 2 * ms                              # action potential width (refractory time)\n",
    "           \n",
    "# network params           \n",
    "p = 0.15                                   # connection density\n",
    "N_exc = 800                                # number exc neurons\n",
    "N_inh = 200                                # number inh neurons\n",
    "N_network = N_exc + N_inh                  # number of neurons\n",
    "\n",
    "# simulation params\n",
    "sim_time_ms = 1000 * 10 * 1                # simulation time in ms\n",
    "monitor_dt_ms = sim_time_ms / 100          # timestep for monitor evaluation\n",
    "\n",
    "######################\n",
    "#                    #\n",
    "#   init the model   #\n",
    "#                    #\n",
    "######################\n",
    "dynamics = '''\n",
    "dv/dt = (gL * (vL - v) + gL * delta * exp((v - vT) / delta) + (mu + gL * sigma * sqrt(2 * C / gL) * xi) + j_e - j_i) / C : volt (unless refractory)\n",
    "dj_e/dt = -j_e/tau_s : amp * meter ** -2\n",
    "dj_i/dt = -j_i/tau_s : amp * meter ** -2\n",
    "'''\n",
    "\n",
    "neurons = NeuronGroup(N_network, dynamics, \n",
    "                threshold='v > vTh',\n",
    "                reset='v = vR',\n",
    "                refractory='tRef',\n",
    "                method='euler')\n",
    "\n",
    "neurons_exc = neurons[:N_exc]\n",
    "neurons_inh = neurons[N_exc:(N_exc + N_inh - 1)]\n",
    "\n",
    "synapses_exc = Synapses(neurons_exc, neurons,\n",
    "                    '''w : amp * meter**-2\n",
    "                        dApre/dt = -Apre / tauPre : amp * meter**-2 (event-driven)\n",
    "                        dApost/dt = -Apost / tauPost : amp * meter**-2 (event-driven)''',\n",
    "                    on_pre='''j_e += w\n",
    "                        Apre += dApre / (N_network*p)\n",
    "                        w = clip(w + Apost, 0, wMax)''',\n",
    "                    on_post='''Apost += dApost / (N_network*p)\n",
    "                        w = clip(w + Apre, 0, wMax)''')\n",
    "\n",
    "synapses_inh = Synapses(neurons_inh, neurons,\n",
    "                       '''w : amp * meter**-2''',\n",
    "                       on_pre='''j_i += w''')\n",
    "           \n",
    "# connect synapses\n",
    "synapses_exc.connect(condition='i!=j', p=p)\n",
    "synapses_inh.connect(condition='i!=j', p=p)\n",
    "\n",
    "# get connection density (for use in STDP params)\n",
    "p0 = p #compute_p0(neurons, synapses)\n",
    "\n",
    "# stdp params\n",
    "wMax = 5 * uamp * cm**-2            # max syn weight\n",
    "tauPre = 5 * ms #15 * ms            # synaptic time constant\n",
    "tauPost = 5 * ms #2 * tauPre        # synaptic time constant\n",
    "dApre = .01\n",
    "dApost = -dApre * tauPre / tauPost * 1.05\n",
    "dApost *= wMax\n",
    "dApre *= wMax\n",
    "\n",
    "# assign synaptic weights\n",
    "mu_w0 = wMax * 2 / (p0 * N_network)\n",
    "sigma_w0 = mu_w0 / 10\n",
    "synapses_exc.w = \"mu_w0 + (0.5 - rand()) * sigma_w0\"\n",
    "synapses_inh.w = \"mu_w0 + (0.5 - rand()) * sigma_w0\"\n",
    "\n",
    "# monitors\n",
    "sp_mon_exc = SpikeMonitor(neurons_exc)\n",
    "sp_mon_inh = SpikeMonitor(neurons_inh)\n",
    "w_mon_exc = StateMonitor(synapses_exc, 'w', record=range(len(synapses_exc.w)), dt=monitor_dt_ms * ms)\n",
    "w_mon_inh = StateMonitor(synapses_inh, 'w', record=range(len(synapses_inh.w)), dt=monitor_dt_ms * ms)\n",
    "\n",
    "# initial voltage values\n",
    "for i in range(N_network):\n",
    "    neurons[i].v = (np.random.normal(0, 1) * (vTh-vR))\n",
    "\n",
    "######################\n",
    "#                    #\n",
    "#   run simulation   #\n",
    "#                    #\n",
    "######################\n",
    "run(sim_time_ms * ms, report='text')\n"
   ]
  },
  {
   "cell_type": "code",
   "execution_count": 3,
   "metadata": {},
   "outputs": [
    {
     "data": {
      "image/png": "[encoded data removed]",
      "text/plain": [
       "<Figure size 720x360 with 1 Axes>"
      ]
     },
     "metadata": {
      "needs_background": "light"
     },
     "output_type": "display_data"
    }
   ],
   "source": [
    "# spike trains\n",
    "plt.figure(figsize=(10, 5))\n",
    "plot(sp_mon_exc.t/second, sp_mon_exc.i, '|r')\n",
    "plot(sp_mon_inh.t/second, sp_mon_inh.i + N_exc, '|k')\n",
    "plt.show()"
   ]
  },
  {
   "cell_type": "code",
   "execution_count": null,
   "metadata": {
    "scrolled": true
   },
   "outputs": [],
   "source": [
    "# individual IEI motifs\n",
    "plot_all_motif_dynamics2(w_mon_exc, w_mon_inh, synapses_exc, synapses_inh, N_exc, N_inh, save_fig=False)"
   ]
  },
  {
   "cell_type": "code",
   "execution_count": null,
   "metadata": {
    "scrolled": true
   },
   "outputs": [],
   "source": [
    "# figure 7\n",
    "plot_motif_dynamics2(w_mon_exc, w_mon_inh, synapses_exc, synapses_inh, N_exc, N_inh, save_fig=False)"
   ]
  },
  {
   "cell_type": "code",
   "execution_count": null,
   "metadata": {
    "scrolled": true
   },
   "outputs": [],
   "source": [
    "# just inhibitory motifs\n",
    "plot_motif_dynamics(w_mon_inh, synapses_inh, N_network, False)"
   ]
  },
  {
   "cell_type": "code",
   "execution_count": null,
   "metadata": {},
   "outputs": [],
   "source": []
  }
 ],
 "metadata": {
  "kernelspec": {
   "display_name": "Python 3",
   "language": "python",
   "name": "python3"
  },
  "language_info": {
   "codemirror_mode": {
    "name": "ipython",
    "version": 3
   },
   "file_extension": ".py",
   "mimetype": "text/x-python",
   "name": "python",
   "nbconvert_exporter": "python",
   "pygments_lexer": "ipython3",
   "version": "3.6.7"
  }
 },
 "nbformat": 4,
 "nbformat_minor": 2
}
