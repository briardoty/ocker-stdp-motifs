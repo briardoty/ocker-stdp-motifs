{
 "cells": [
  {
   "cell_type": "code",
   "execution_count": 1,
   "metadata": {
    "scrolled": false
   },
   "outputs": [],
   "source": [
    "from brian2 import *\n",
    "from util.visualization_functions import *\n",
    "from util.analysis_functions import *\n",
    "%matplotlib inline\n",
    "#set_device('cpp_standalone') # for C++ speedup\n"
   ]
  },
  {
   "cell_type": "code",
   "execution_count": null,
   "metadata": {
    "scrolled": false
   },
   "outputs": [
    {
     "name": "stderr",
     "output_type": "stream",
     "text": [
      "WARNING    Came across an abstract code block that may not be well-defined: the outcome may depend on the order of execution. You can ignore this warning if you are sure that the order of operations does not matter. 8 lines of abstract code, first line is: \"_Apost := Apost * exp(_lio_1 * (- (t - lastupdate))) (constant)\"\n",
      " [brian2.codegen.generators.base]\n"
     ]
    },
    {
     "name": "stdout",
     "output_type": "stream",
     "text": [
      "Starting simulation at t=0. s for a duration of 0.6 ks\n",
      "19.0063 s (3%) simulated in 10s, estimated 5m 6s remaining.\n",
      "38.0887 s (6%) simulated in 20s, estimated 4m 55s remaining.\n",
      "56.0608 s (9%) simulated in 30s, estimated 4m 51s remaining.\n"
     ]
    }
   ],
   "source": [
    "# trying to recreate the simulation used in Ocker 2015\n",
    "\n",
    "start_scope()\n",
    "\n",
    "# model parameters\n",
    "gL = .1 * msiemens * cm**-2 # leak conductance\n",
    "vL = -72 * mV               # leak reversal potential\n",
    "C = 1 * ufarad * cm**-2     # membrane capacitance\n",
    "delta = 1.4 * mV            # action potential steepness\n",
    "vT = -48 * mV               # action potential initiation threshold\n",
    "mu = 1 * uamp * cm**-2      # noise mean\n",
    "sigma = 9 * mV              # noise std dev\n",
    "\n",
    "# other cell params\n",
    "vTh = 30 * mV               # spike threshold\n",
    "vR = -72 * mV               # reset potential\n",
    "tRef = 2 * ms               # action potential width (refractory time)\n",
    "\n",
    "# network params\n",
    "p = 0.15                    # connection density\n",
    "N = 100                     # number of neurons\n",
    "\n",
    "# stdp params\n",
    "wMax = 5 / N / p * uamp * cm**-2    # max syn weight - TODO: generate wMax from connectivity stats like in paper?\n",
    "tauPre = 5 * ms #15 * ms            # synaptic time constant\n",
    "tauPost = 5 * ms #2 * tauPre        # synaptic time constant\n",
    "dApost = -wMax / 5 / N              # f neg (f post)\n",
    "dApre = -dApost * tauPost / tauPre  # f pos (f pre)\n",
    "\n",
    "# simulation params\n",
    "sim_time_ms = 60000                # simulation time in ms\n",
    "monitor_dt_ms = sim_time_ms / 100   # timestep for monitor evaluation\n",
    "\n",
    "# model\n",
    "dynamics = '''\n",
    "dv/dt = (gL * (vL - v) + gL * delta * exp((v - vT) / delta) + (mu + gL * sigma * sqrt(2 * C / gL) * xi)) / C : volt (unless refractory)\n",
    "'''\n",
    "\n",
    "G = NeuronGroup(N, dynamics, \n",
    "                threshold='v > vTh',\n",
    "                reset='v = vR',\n",
    "                refractory='tRef',\n",
    "                method='euler')\n",
    "\n",
    "synapses = Synapses(G, G,\n",
    "             '''w : amp * meter**-2\n",
    "                dApre/dt = -Apre / tauPre : amp * meter**-2 (event-driven)\n",
    "                dApost/dt = -Apost / tauPost : amp * meter**-2 (event-driven)''',\n",
    "             on_pre='''v += w * v * cm**2 * amp**-1\n",
    "                    Apre += dApre\n",
    "                    w = clip(w + Apost, 0, wMax)''',\n",
    "             on_post='''Apost += dApost\n",
    "                     w = clip(w + Apre, 0, wMax)'''\n",
    "            )\n",
    "           \n",
    "# TODO: initialize mean weight over some distribution?\n",
    "synapses.connect(condition='i!=j', p=p)\n",
    "synapses.w = 'wMax * rand() / 3'\n",
    "\n",
    "# monitors\n",
    "#v_mon = StateMonitor(G, 'v', record=True)\n",
    "#sp_mon_exc = SpikeMonitor(G)\n",
    "w_mon = StateMonitor(synapses, 'w', record=True, dt=monitor_dt_ms * ms)\n",
    "\n",
    "# initial value\n",
    "#G.v = 5 * mV \n",
    "\n",
    "# initial stats\n",
    "#(p0, q_div0, q_con0, q_ch0, q_rec0) = compute_motif_stats(G, synapses)\n",
    "\n",
    "# run\n",
    "run(sim_time_ms * ms, report='text')\n",
    "\n",
    "# final stats\n",
    "#(p, q_div, q_con, q_ch, q_rec) = compute_motif_stats(G, synapses)\n",
    "\n",
    "# plots\n",
    "#plot_v(v_mon, sp_mon_exc, 0, True)\n",
    "#plot_spike_trains(sp_mon_exc)\n",
    "\n",
    "\n",
    "#print(\"p: \" + str(p0) + \"-->\" + str(p))\n",
    "#print(\"q_div: \" + str(q_div0) + \"-->\" + str(q_div))\n",
    "#print(\"q_con: \" + str(q_con0) + \"-->\" + str(q_con))\n",
    "#print(\"q_ch: \" + str(q_ch0) + \"-->\" + str(q_ch))\n",
    "#print(\"q_rec: \" + str(q_rec0) + \"-->\" + str(q_rec))\n",
    "\n",
    "\n",
    "\n"
   ]
  },
  {
   "cell_type": "code",
   "execution_count": null,
   "metadata": {},
   "outputs": [],
   "source": [
    "# more plots\n",
    "#plot_avg_syn_weight(w_mon, wMax)\n",
    "\n",
    "# figure 7\n",
    "plot_motif_dynamics(w_mon, synapses, N, True)"
   ]
  }
 ],
 "metadata": {
  "kernelspec": {
   "display_name": "ocker-stdp-motifs-_EyvY4cK",
   "language": "python",
   "name": "ocker-stdp-motifs-_eyvy4ck"
  },
  "language_info": {
   "codemirror_mode": {
    "name": "ipython",
    "version": 3
   },
   "file_extension": ".py",
   "mimetype": "text/x-python",
   "name": "python",
   "nbconvert_exporter": "python",
   "pygments_lexer": "ipython3",
   "version": "3.7.5"
  }
 },
 "nbformat": 4,
 "nbformat_minor": 2
}
