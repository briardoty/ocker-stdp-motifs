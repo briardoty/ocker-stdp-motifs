{
 "cells": [
  {
   "cell_type": "code",
   "execution_count": null,
   "metadata": {
    "scrolled": false
   },
   "outputs": [],
   "source": [
    "from brian2 import *\n",
    "from util.visualization_functions import *\n",
    "%matplotlib inline\n",
    "prefs.codegen.target = \"numpy\" # delete if get c++ build tools working"
   ]
  },
  {
   "cell_type": "code",
   "execution_count": null,
   "metadata": {
    "scrolled": false
   },
   "outputs": [],
   "source": [
    "# trying to recreate the simulation used in Ocker 2015\n",
    "\n",
    "start_scope()\n",
    "\n",
    "# model parameters\n",
    "gL = .1 * msiemens * cm**-2 # leak conductance\n",
    "vL = -72 * mV               # leak reversal potential\n",
    "C = 1 * ufarad * cm**-2     # membrane capacitance\n",
    "delta = 1.4 * mV            # action potential steepness\n",
    "vT = -48 * mV               # action potential initiation threshold\n",
    "mu = 1 * uamp * cm**-2      # noise mean\n",
    "sigma = 9 * mV              # noise std dev\n",
    "\n",
    "# other cell params\n",
    "vTh = 30 * mV               # spike threshold\n",
    "vR = -72 * mV               # reset potential\n",
    "tRef = 2 * ms               # action potential width (refractory time)\n",
    "\n",
    "# network params\n",
    "p = 0.15                    # connection density\n",
    "N = 100                     # number of neurons\n",
    "\n",
    "# stdp params\n",
    "wMax = 0.0335               # max syn weight - TODO: generate wMax from connectivity stats like in paper?\n",
    "deleps = -wMax / 50000      # ??? - no idea what this is but it appears in the paper's par_net.m file\n",
    "tauPre = 15 * ms            # synaptic time constant\n",
    "tauPost = 2 * tauPre        # synaptic time constant\n",
    "dApost = -wMax / 5000       # f neg (f post)\n",
    "dApre = (-dApost * tauPost + deleps * tauPost) / tauPre # f pos (f pre)\n",
    "\n",
    "# model\n",
    "dynamics = '''\n",
    "dv/dt = (gL * (vL - v) + gL * delta * exp((v - vT) / delta) + (mu + gL * sigma * sqrt(2 * C / gL) * xi)) / C : volt (unless refractory)\n",
    "'''\n",
    "\n",
    "G = NeuronGroup(N, dynamics, \n",
    "                threshold='v > vTh',\n",
    "                reset='v = vR',\n",
    "                refractory='tRef',\n",
    "                method='euler')\n",
    "\n",
    "S = Synapses(G, G,\n",
    "             '''w : 1\n",
    "                dApre/dt = -Apre / tauPre : 1 (event-driven)\n",
    "                dApost/dt = -Apost / tauPost : 1 (event-driven)''',\n",
    "             on_pre='''v += w * v\n",
    "                    Apre += dApre\n",
    "                    w = clip(w + Apost, 0, wMax)''',\n",
    "             on_post='''Apost += dApost\n",
    "                     w = clip(w + Apre, 0, wMax)'''\n",
    "            )\n",
    "           \n",
    "# TODO: initialize mean weight over some distribution?\n",
    "S.connect(condition='i!=j', p=p)\n",
    "S.w = '0.2'\n",
    "\n",
    "# monitors\n",
    "v_mon = StateMonitor(G, 'v', record=True)\n",
    "sp_mon_exc = SpikeMonitor(G)\n",
    "\n",
    "# initial value\n",
    "#G.v = 5 * mV \n",
    "\n",
    "# run\n",
    "run(1000*ms, report='text')\n",
    "\n",
    "# plots\n",
    "#visualise_connectivity(S)\n",
    "plot_v(v_mon, sp_mon_exc, 0, True)\n",
    "plot_spike_trains(sp_mon_exc)\n",
    "\n"
   ]
  },
  {
   "cell_type": "code",
   "execution_count": 8,
   "metadata": {},
   "outputs": [
    {
     "name": "stdout",
     "output_type": "stream",
     "text": [
      "[[       nan        nan        nan ...        nan        nan        nan]\n",
      " [       nan        nan 0.03348984 ...        nan        nan        nan]\n",
      " [       nan 0.0335            nan ...        nan        nan        nan]\n",
      " ...\n",
      " [       nan        nan        nan ...        nan        nan        nan]\n",
      " [       nan        nan        nan ...        nan        nan        nan]\n",
      " [       nan 0.0335            nan ...        nan        nan        nan]]\n"
     ]
    }
   ],
   "source": [
    "# connectivity matrix\n",
    "\n",
    "# Create a matrix to store the weights and fill it with NaN\n",
    "W = np.full((len(G), len(G)), np.nan)\n",
    "\n",
    "# Insert the values from the Synapses object\n",
    "W[S.i[:], S.j[:]] = S.w[:]\n",
    "\n",
    "print(W)"
   ]
  },
  {
   "cell_type": "code",
   "execution_count": 2,
   "metadata": {
    "scrolled": true
   },
   "outputs": [
    {
     "name": "stdout",
     "output_type": "stream",
     "text": [
      "-1.e-05 m^-2 A\n",
      "30. ms\n",
      "-3.e-07 C/m^2\n",
      "-1.e-06 m^-2 A\n"
     ]
    },
    {
     "data": {
      "image/png": "[encoded data removed]",
      "text/plain": [
       "<Figure size 432x288 with 1 Axes>"
      ]
     },
     "metadata": {
      "needs_background": "light"
     },
     "output_type": "display_data"
    }
   ],
   "source": [
    "from brian2.units import *\n",
    "\n",
    "# stdp params\n",
    "wMax = 5 * uamp * cm**-2    # max syn weight\n",
    "deleps = -wMax / 50000      # ???\n",
    "tauPre = 15 * ms            # synaptic time constant\n",
    "tauPost = 2 * tauPre        # synaptic time constant\n",
    "dApost = -wMax / 5000       # f neg (f post)\n",
    "\n",
    "print(dApost)\n",
    "print(tauPost)\n",
    "print(dApost * tauPost)\n",
    "\n",
    "print(deleps)\n",
    "\n",
    "dApre = (-dApost * tauPost + deleps * tauPost) / tauPre # f pos (f pre)\n",
    "\n",
    "# plot\n",
    "visualize_stdp(dApre, tauPre, dApost, tauPost)"
   ]
  },
  {
   "cell_type": "code",
   "execution_count": 3,
   "metadata": {},
   "outputs": [
    {
     "name": "stdout",
     "output_type": "stream",
     "text": [
      "-6.7e-06\n",
      "30. ms\n",
      "-201. ns\n",
      "-6.7e-07\n"
     ]
    },
    {
     "data": {
      "image/png": "[encoded data removed]",
      "text/plain": [
       "<Figure size 432x288 with 1 Axes>"
      ]
     },
     "metadata": {
      "needs_background": "light"
     },
     "output_type": "display_data"
    }
   ],
   "source": [
    "# dimensionless stdp params\n",
    "wMax = 0.0335               # max syn weight\n",
    "deleps = -wMax / 50000      # ???\n",
    "tauPre = 15 * ms            # synaptic time constant\n",
    "tauPost = 2 * tauPre        # synaptic time constant\n",
    "dApost = -wMax / 5000       # f neg (f post)\n",
    "\n",
    "print(dApost)\n",
    "print(tauPost)\n",
    "print(dApost * tauPost)\n",
    "\n",
    "print(deleps)\n",
    "\n",
    "dApre = (-dApost * tauPost + deleps * tauPost) / tauPre # f pos (f pre)\n",
    "\n",
    "# plot\n",
    "visualize_stdp(dApre, tauPre, dApost, tauPost)"
   ]
  },
  {
   "cell_type": "code",
   "execution_count": null,
   "metadata": {},
   "outputs": [],
   "source": []
  }
 ],
 "metadata": {
  "kernelspec": {
   "display_name": "ocker-stdp-motifs-_EyvY4cK",
   "language": "python",
   "name": "ocker-stdp-motifs-_eyvy4ck"
  },
  "language_info": {
   "codemirror_mode": {
    "name": "ipython",
    "version": 3
   },
   "file_extension": ".py",
   "mimetype": "text/x-python",
   "name": "python",
   "nbconvert_exporter": "python",
   "pygments_lexer": "ipython3",
   "version": "3.7.5"
  }
 },
 "nbformat": 4,
 "nbformat_minor": 2
}
