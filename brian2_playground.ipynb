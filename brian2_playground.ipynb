{
 "cells": [
  {
   "cell_type": "code",
   "execution_count": 1,
   "metadata": {
    "scrolled": false
   },
   "outputs": [],
   "source": [
    "from brian2 import *\n",
    "from util.visualization_functions import *\n",
    "from util.analysis_functions import *\n",
    "%matplotlib inline\n",
    "prefs.codegen.target = \"numpy\" # delete if get c++ build tools working\n",
    "# set_device('cpp_standalone', directory='plaground') # for C speedup\n"
   ]
  },
  {
   "cell_type": "code",
   "execution_count": null,
   "metadata": {
    "scrolled": false
   },
   "outputs": [],
   "source": [
    "# trying to recreate the simulation used in Ocker 2015\n",
    "\n",
    "start_scope()\n",
    "\n",
    "# model parameters\n",
    "gL = .1 * msiemens * cm**-2 # leak conductance\n",
    "vL = -72 * mV               # leak reversal potential\n",
    "C = 1 * ufarad * cm**-2     # membrane capacitance\n",
    "delta = 1.4 * mV            # action potential steepness\n",
    "vT = -48 * mV               # action potential initiation threshold\n",
    "mu = 1 * uamp * cm**-2      # noise mean\n",
    "sigma = 9 * mV              # noise std dev\n",
    "\n",
    "# other cell params\n",
    "vTh = 30 * mV               # spike threshold\n",
    "vR = -72 * mV               # reset potential\n",
    "tRef = 2 * ms               # action potential width (refractory time)\n",
    "\n",
    "# network params\n",
    "p = 0.15                    # connection density\n",
    "N = 1000                     # number of neurons\n",
    "\n",
    "# stdp params\n",
    "wMax = 0.0335               # max syn weight - TODO: generate wMax from connectivity stats like in paper?\n",
    "# wMax = 5 * uamp * cm**-2\n",
    "deleps = 0 #* uamp * cm**-2 #-wMax / 50000   # for temporal asymmetry; not needed\n",
    "tauPre = 5 * ms #15 * ms            # synaptic time constant\n",
    "tauPost = 5 * ms #2 * tauPre        # synaptic time constant\n",
    "dApost = -wMax / 5000       # f neg (f post)\n",
    "dApre = (-dApost * tauPost + deleps * tauPost) / tauPre # f pos (f pre)\n",
    "\n",
    "# model\n",
    "dynamics = '''\n",
    "dv/dt = (gL * (vL - v) + gL * delta * exp((v - vT) / delta) + (mu + gL * sigma * sqrt(2 * C / gL) * xi)) / C : volt (unless refractory)\n",
    "'''\n",
    "\n",
    "G = NeuronGroup(N, dynamics, \n",
    "                threshold='v > vTh',\n",
    "                reset='v = vR',\n",
    "                refractory='tRef',\n",
    "                method='euler')\n",
    "\n",
    "S = Synapses(G, G,\n",
    "             '''w : 1\n",
    "                dApre/dt = -Apre / tauPre : 1 (event-driven)\n",
    "                dApost/dt = -Apost / tauPost : 1 (event-driven)''',\n",
    "             on_pre='''v += w * v\n",
    "                    Apre += dApre\n",
    "                    w = clip(w + Apost, 0, wMax)''',\n",
    "             on_post='''Apost += dApost\n",
    "                     w = clip(w + Apre, 0, wMax)'''\n",
    "            )\n",
    "           \n",
    "# TODO: initialize mean weight over some distribution?\n",
    "S.connect(condition='i!=j', p=p)\n",
    "S.w = '0.2 * rand()'\n",
    "\n",
    "# monitors\n",
    "v_mon = StateMonitor(G, 'v', record=True)\n",
    "sp_mon_exc = SpikeMonitor(G)\n",
    "w_mon = StateMonitor(S, 'w', record = True)\n",
    "\n",
    "# initial value\n",
    "#G.v = 5 * mV \n",
    "\n",
    "# initial stats\n",
    "(p0, q_div0, q_con0, q_ch0, q_rec0) = compute_motif_stats(G, S)\n",
    "\n",
    "# run\n",
    "run(1000*ms, report='text')\n",
    "\n",
    "# final stats\n",
    "(p, q_div, q_con, q_ch, q_rec) = compute_motif_stats(G, S)\n",
    "\n",
    "# plots\n",
    "#visualise_connectivity(S)\n",
    "plot_v(v_mon, sp_mon_exc, 0, True)\n",
    "plot_spike_trains(sp_mon_exc)\n",
    "\n",
    "print(\"p: \" + str(p0) + \"-->\" + str(p))\n",
    "print(\"q_div: \" + str(q_div0) + \"-->\" + str(q_div))\n",
    "print(\"q_con: \" + str(q_con0) + \"-->\" + str(q_con))\n",
    "print(\"q_ch: \" + str(q_ch0) + \"-->\" + str(q_ch))\n",
    "print(\"q_rec: \" + str(q_rec0) + \"-->\" + str(q_rec))\n",
    "\n",
    "\n",
    "\n"
   ]
  },
  {
   "cell_type": "code",
   "execution_count": 3,
   "metadata": {},
   "outputs": [
    {
     "name": "stdout",
     "output_type": "stream",
     "text": [
      "2.0467108393119525e-05\n"
     ]
    }
   ],
   "source": [
    "# motif stats\n",
    "from util.analysis_functions import *\n",
    "\n",
    "network_group = G\n",
    "synapses = S\n",
    "\n",
    "N = len(network_group)\n",
    "W = np.zeros((N, N))\n",
    "\n",
    "# Insert the values from the Synapses object\n",
    "W[synapses.i[:], synapses.j[:]] = synapses.w[:]\n",
    "\n",
    "# motif stats...\n",
    "p = W.sum() / N**2\n",
    "\n",
    "q_div = 0\n",
    "for i in range(N):\n",
    "    for j in range(N):\n",
    "        for k in range(N):\n",
    "            q_div += W[i,k] * W[j,k]\n",
    "\n",
    "q_div = (q_div - p**2) / N**3\n",
    "\n",
    "print(q_div)"
   ]
  },
  {
   "cell_type": "code",
   "execution_count": 4,
   "metadata": {
    "scrolled": true
   },
   "outputs": [
    {
     "name": "stdout",
     "output_type": "stream",
     "text": [
      "-1.e-05 m^-2 A\n",
      "30. ms\n",
      "-3.e-07 C/m^2\n",
      "-1.e-06 m^-2 A\n"
     ]
    },
    {
     "data": {
      "image/png": "[encoded data removed]",
      "text/plain": [
       "<Figure size 432x288 with 1 Axes>"
      ]
     },
     "metadata": {
      "needs_background": "light"
     },
     "output_type": "display_data"
    }
   ],
   "source": [
    "from brian2.units import *\n",
    "\n",
    "# stdp params\n",
    "wMax = 5 * uamp * cm**-2    # max syn weight\n",
    "deleps = -wMax / 50000      # ???\n",
    "tauPre = 15 * ms            # synaptic time constant\n",
    "tauPost = 2 * tauPre        # synaptic time constant\n",
    "dApost = -wMax / 5000       # f neg (f post)\n",
    "\n",
    "print(dApost)\n",
    "print(tauPost)\n",
    "print(dApost * tauPost)\n",
    "\n",
    "print(deleps)\n",
    "\n",
    "dApre = (-dApost * tauPost + deleps * tauPost) / tauPre # f pos (f pre)\n",
    "\n",
    "# plot\n",
    "visualize_stdp(dApre, tauPre, dApost, tauPost)"
   ]
  },
  {
   "cell_type": "code",
   "execution_count": 5,
   "metadata": {},
   "outputs": [
    {
     "name": "stdout",
     "output_type": "stream",
     "text": [
      "-6.7e-06\n",
      "30. ms\n",
      "-201. ns\n",
      "-6.7e-07\n"
     ]
    },
    {
     "data": {
      "image/png": "[encoded data removed]",
      "text/plain": [
       "<Figure size 432x288 with 1 Axes>"
      ]
     },
     "metadata": {
      "needs_background": "light"
     },
     "output_type": "display_data"
    }
   ],
   "source": [
    "# dimensionless stdp params\n",
    "wMax = 0.0335               # max syn weight\n",
    "deleps = -wMax / 50000      # ???\n",
    "tauPre = 15 * ms            # synaptic time constant\n",
    "tauPost = 2 * tauPre        # synaptic time constant\n",
    "dApost = -wMax / 5000       # f neg (f post)\n",
    "\n",
    "print(dApost)\n",
    "print(tauPost)\n",
    "print(dApost * tauPost)\n",
    "\n",
    "print(deleps)\n",
    "\n",
    "dApre = (-dApost * tauPost + deleps * tauPost) / tauPre # f pos (f pre)\n",
    "\n",
    "# plot\n",
    "visualize_stdp(dApre, tauPre, dApost, tauPost)"
   ]
  },
  {
   "cell_type": "code",
   "execution_count": null,
   "metadata": {},
   "outputs": [],
   "source": []
  },
  {
   "cell_type": "code",
   "execution_count": 5,
   "metadata": {},
   "outputs": [],
   "source": [
    "avg_w_e = w_mon.w.mean(axis=0)\n"
   ]
  },
  {
   "cell_type": "code",
   "execution_count": 6,
   "metadata": {},
   "outputs": [
    {
     "data": {
      "text/plain": [
       "Text(0, 0.5, 'Average Weight / gmax')"
      ]
     },
     "execution_count": 6,
     "metadata": {},
     "output_type": "execute_result"
    },
    {
     "data": {
      "image/png": "[encoded data removed]",
      "text/plain": [
       "<Figure size 432x288 with 1 Axes>"
      ]
     },
     "metadata": {
      "needs_background": "light"
     },
     "output_type": "display_data"
    }
   ],
   "source": [
    "plot(w_mon.t/second, avg_w_e/wMax)\n",
    "title('Excitatory Neuron Average Weight')\n",
    "xlabel('Time (s)')\n",
    "ylabel('Average Weight / gmax')\n"
   ]
  },
  {
   "cell_type": "code",
   "execution_count": null,
   "metadata": {},
   "outputs": [],
   "source": []
  }
 ],
 "metadata": {
  "kernelspec": {
   "display_name": "ocker-stdp-motifs-_EyvY4cK",
   "language": "python",
   "name": "ocker-stdp-motifs-_eyvy4ck"
  },
  "language_info": {
   "codemirror_mode": {
    "name": "ipython",
    "version": 3
   },
   "file_extension": ".py",
   "mimetype": "text/x-python",
   "name": "python",
   "nbconvert_exporter": "python",
   "pygments_lexer": "ipython3",
   "version": "3.7.5"
  }
 },
 "nbformat": 4,
 "nbformat_minor": 2
}
