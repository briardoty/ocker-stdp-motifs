{
 "cells": [
  {
   "cell_type": "code",
   "execution_count": 11,
   "metadata": {
    "scrolled": false
   },
   "outputs": [],
   "source": [
    "from brian2 import *\n",
    "from util.visualization_functions import *\n",
    "from util.analysis_functions import *\n",
    "import brian2.numpy_ as np\n",
    "# from networkx import nx\n",
    "# %matplotlib inline\n"
   ]
  },
  {
   "cell_type": "code",
   "execution_count": 12,
   "metadata": {},
   "outputs": [],
   "source": [
    "# set_device('cpp_standalone', clean=True) # for C++ speedup\n",
    "# prefs.devices.cpp_standalone.openmp_threads = 4 # number of threads; needs openmp"
   ]
  },
  {
   "cell_type": "code",
   "execution_count": 13,
   "metadata": {
    "scrolled": false
   },
   "outputs": [
    {
     "name": "stdout",
     "output_type": "stream",
     "text": [
      "Starting simulation at t=0. s for a duration of 300. s\n",
      "7.5832 s (2%) simulated in 10s, estimated 6m 26s remaining.\n",
      "15.2057 s (5%) simulated in 20s, estimated 6m 15s remaining.\n",
      "22.5059 s (7%) simulated in 30s, estimated 6m 10s remaining.\n",
      "30.1892 s (10%) simulated in 40s, estimated 5m 58s remaining.\n",
      "37.9051 s (12%) simulated in 50s, estimated 5m 46s remaining.\n",
      "45.5511 s (15%) simulated in 1m 0s, estimated 5m 35s remaining.\n",
      "53.0874 s (17%) simulated in 1m 10s, estimated 5m 26s remaining.\n",
      "60.7422 s (20%) simulated in 1m 20s, estimated 5m 15s remaining.\n",
      "68.0519 s (22%) simulated in 1m 30s, estimated 5m 7s remaining.\n",
      "75.5277 s (25%) simulated in 1m 40s, estimated 4m 57s remaining.\n",
      "82.894 s (27%) simulated in 1m 50s, estimated 4m 48s remaining.\n",
      "90.4301 s (30%) simulated in 2m 0s, estimated 4m 38s remaining.\n",
      "97.945 s (32%) simulated in 2m 10s, estimated 4m 28s remaining.\n",
      "105.4798 s (35%) simulated in 2m 20s, estimated 4m 18s remaining.\n",
      "112.9753 s (37%) simulated in 2m 30s, estimated 4m 8s remaining.\n",
      "120.2108 s (40%) simulated in 2m 40s, estimated 3m 59s remaining.\n",
      "127.5154 s (42%) simulated in 2m 50s, estimated 3m 50s remaining.\n",
      "134.7578 s (44%) simulated in 3m 0s, estimated 3m 41s remaining.\n",
      "142.2197 s (47%) simulated in 3m 10s, estimated 3m 31s remaining.\n",
      "149.7721 s (49%) simulated in 3m 20s, estimated 3m 21s remaining.\n",
      "157.1578 s (52%) simulated in 3m 30s, estimated 3m 11s remaining.\n",
      "164.4265 s (54%) simulated in 3m 40s, estimated 3m 1s remaining.\n",
      "171.8214 s (57%) simulated in 3m 50s, estimated 2m 52s remaining.\n",
      "179.2929 s (59%) simulated in 4m 0s, estimated 2m 42s remaining.\n",
      "186.6404 s (62%) simulated in 4m 10s, estimated 2m 32s remaining.\n",
      "194.1141 s (64%) simulated in 4m 20s, estimated 2m 22s remaining.\n",
      "201.6421 s (67%) simulated in 4m 30s, estimated 2m 12s remaining.\n",
      "209.1021 s (69%) simulated in 4m 40s, estimated 2m 2s remaining.\n",
      "216.2891 s (72%) simulated in 4m 50s, estimated 1m 52s remaining.\n",
      "223.6268 s (74%) simulated in 5m 0s, estimated 1m 42s remaining.\n",
      "230.8225 s (76%) simulated in 5m 10s, estimated 1m 33s remaining.\n",
      "238.0922 s (79%) simulated in 5m 20s, estimated 1m 23s remaining.\n",
      "245.3982 s (81%) simulated in 5m 30s, estimated 1m 13s remaining.\n",
      "252.7621 s (84%) simulated in 5m 40s, estimated 1m 4s remaining.\n",
      "260.043 s (86%) simulated in 5m 50s, estimated 54s remaining.\n",
      "267.1495 s (89%) simulated in 6m 0s, estimated 44s remaining.\n",
      "274.4122 s (91%) simulated in 6m 10s, estimated 35s remaining.\n",
      "281.8161 s (93%) simulated in 6m 20s, estimated 25s remaining.\n",
      "289.1441 s (96%) simulated in 6m 30s, estimated 15s remaining.\n",
      "296.4963 s (98%) simulated in 6m 40s, estimated 5s remaining.\n",
      "300. s (100%) simulated in 6m 44s\n"
     ]
    }
   ],
   "source": [
    "# recreate the simulation used in Ocker 2015\n",
    "\n",
    "start_scope()\n",
    "\n",
    "# model parameters\n",
    "gL = .1 * msiemens * cm**-2 # leak conductance\n",
    "vL = -72 * mV               # leak reversal potential\n",
    "C = 1 * ufarad * cm**-2     # membrane capacitance\n",
    "delta = 1.4 * mV            # action potential steepness\n",
    "vT = -48 * mV               # action potential initiation threshold\n",
    "mu = 1 * uamp * cm**-2      # noise mean\n",
    "sigma = 9 * mV              # noise std dev\n",
    "tau_s = 5 * ms              # synaptic time constant\n",
    "\n",
    "# other cell params\n",
    "vTh = 30 * mV               # spike threshold\n",
    "vR = -72 * mV               # reset potential\n",
    "tRef = 2 * ms               # action potential width (refractory time)\n",
    "\n",
    "# network params\n",
    "p = 0.15                    # connection density\n",
    "N_network = 1000                     # number of neurons\n",
    "\n",
    "# simulation params\n",
    "sim_time_ms = 1000 * 60 * 5                # simulation time in ms\n",
    "monitor_dt_ms = sim_time_ms / 100   # timestep for monitor evaluation\n",
    "\n",
    "######################\n",
    "#                    #\n",
    "#   init the model   #\n",
    "#                    #\n",
    "######################\n",
    "dynamics = '''\n",
    "dv/dt = (gL * (vL - v) + gL * delta * exp((v - vT) / delta) + (mu + gL * sigma * sqrt(2 * C / gL) * xi) + j_e) / C : volt (unless refractory)\n",
    "dj_e/dt = -j_e/tau_s : amp * meter ** -2\n",
    "'''\n",
    "\n",
    "G = NeuronGroup(N_network, dynamics, \n",
    "                threshold='v > vTh',\n",
    "                reset='v = vR',\n",
    "                refractory='tRef',\n",
    "                method='euler')\n",
    "\n",
    "synapses = Synapses(G, G,\n",
    "                    '''w : amp * meter**-2\n",
    "                        dApre/dt = -Apre / tauPre : amp * meter**-2 (event-driven)\n",
    "                        dApost/dt = -Apost / tauPost : amp * meter**-2 (event-driven)''',\n",
    "                    on_pre='''j_e += w\n",
    "                        Apre += dApre\n",
    "                        w = clip(w + Apost, 0, wMax)''',\n",
    "                    on_post='''Apost += dApost\n",
    "                        w = clip(w + Apre, 0, wMax)''')\n",
    "           \n",
    "# connect synapses\n",
    "synapses.connect(condition='i!=j', p=p)\n",
    "# erg = nx.erdos_renyi_graph(N_network, p, directed=True)#use erdos renyi random graph to determine synapse connections\n",
    "num_synapses = len(synapses)\n",
    "# for i in range(0, erg.number_of_nodes()):\n",
    "#     nbs = [n for n in erg.neighbors(i)]\n",
    "#     synapses.connect(i=[i], j=nbs) #connect neuron i to appropriate neighbors indicated in the erdos renyi graph\n",
    "#     num_synapses += len(nbs)\n",
    "#for i in range(N_network):\n",
    "#    for j in range(N_network):\n",
    "#        if i != j:\n",
    "#            if np.random.rand() < p:\n",
    "#                synapses.connect(i=i, j=j)\n",
    "#                num_synapses += 1\n",
    "\n",
    "# get connection density (for use in STDP params)\n",
    "p0 = p #compute_p0(G, synapses)\n",
    "# print(p0)\n",
    "\n",
    "# stdp params\n",
    "wMax = 5 * uamp * cm**-2    # max syn weight\n",
    "tauPre = 15 * ms            # synaptic time constant\n",
    "tauPost = 2 * tauPre        # synaptic time constant\n",
    "dApost = -wMax / 5 / N_network              # f neg (f post)\n",
    "dApre = -dApost * tauPost / tauPre  # f pos (f pre)\n",
    "#dApre = .01\n",
    "#dApost = -dApre * tauPre / tauPost * 1.05\n",
    "#dApost *= wMax\n",
    "#dApre *= wMax\n",
    "\n",
    "# assign synaptic weights\n",
    "w0 = wMax / N_network\n",
    "synapses.w = w0\n",
    "\n",
    "# monitors\n",
    "sp_mon_exc = SpikeMonitor(G)\n",
    "w_mon = StateMonitor(synapses, 'w', record=range(num_synapses), dt=monitor_dt_ms * ms)\n",
    "\n",
    "# initial voltage values\n",
    "for i in range(0, N_network):\n",
    "    G[i].v = (np.random.normal(0, 1)*(vTh-vR)) #initial membrane potential for each neuron in neuron group\n",
    "\n",
    "######################\n",
    "#                    #\n",
    "#   run simulation   #\n",
    "#                    #\n",
    "######################\n",
    "run(sim_time_ms * ms, report='text')"
   ]
  },
  {
   "cell_type": "code",
   "execution_count": null,
   "metadata": {},
   "outputs": [
    {
     "data": {
      "image/png": "[encoded data removed]",
      "text/plain": [
       "<Figure size 432x288 with 1 Axes>"
      ]
     },
     "metadata": {
      "needs_background": "light"
     },
     "output_type": "display_data"
    }
   ],
   "source": [
    "# more plots\n",
    "plot_avg_syn_weight(w_mon, wMax)\n",
    "\n",
    "# figure 7\n",
    "plot_motif_dynamics(w_mon, synapses, N_network, use_p0=True, save_fig=False)"
   ]
  }
 ],
 "metadata": {
  "kernelspec": {
   "display_name": "Python 3",
   "language": "python",
   "name": "python3"
  },
  "language_info": {
   "codemirror_mode": {
    "name": "ipython",
    "version": 3
   },
   "file_extension": ".py",
   "mimetype": "text/x-python",
   "name": "python",
   "nbconvert_exporter": "python",
   "pygments_lexer": "ipython3",
   "version": "3.7.5"
  }
 },
 "nbformat": 4,
 "nbformat_minor": 2
}
