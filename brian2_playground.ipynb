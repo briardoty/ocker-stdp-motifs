{
 "cells": [
  {
   "cell_type": "code",
   "execution_count": 1,
   "metadata": {
    "scrolled": false
   },
   "outputs": [],
   "source": [
    "from brian2 import *\n",
    "from util.visualization_functions import *\n",
    "from util.analysis_functions import *\n",
    "import brian2.numpy_ as np\n",
    "# from networkx import nx\n",
    "# %matplotlib inline\n"
   ]
  },
  {
   "cell_type": "code",
   "execution_count": 2,
   "metadata": {},
   "outputs": [],
   "source": [
    "# set_device('cpp_standalone', clean=True) # for C++ speedup\n",
    "# prefs.devices.cpp_standalone.openmp_threads = 4 # number of threads; needs openmp"
   ]
  },
  {
   "cell_type": "code",
   "execution_count": null,
   "metadata": {
    "scrolled": false
   },
   "outputs": [
    {
     "name": "stderr",
     "output_type": "stream",
     "text": [
      "WARNING    /Users/julienbloch/miniconda3/lib/python3.6/site-packages/Cython/Compiler/Main.py:369: FutureWarning: Cython directive 'language_level' not set, using 2 for now (Py2). This will change in a later release! File: /Users/julienbloch/Library/Caches/cython/brian_extensions/_cython_magic_e8960b16157517882c96830725846949.pyx\n",
      "  tree = Parsing.p_module(s, pxd, full_module_name)\n",
      " [py.warnings]\n",
      "clang: warning: libstdc++ is deprecated; move to libc++ with a minimum deployment target of OS X 10.9 [-Wdeprecated]\n",
      "ld: library not found for -lstdc++\n",
      "clang: error: linker command failed with exit code 1 (use -v to see invocation)\n",
      "WARNING    Cannot use Cython, a test compilation failed: command 'g++' failed with exit status 1 (LinkError) [brian2.codegen.runtime.cython_rt.cython_rt.failed_compile_test]\n",
      "INFO       Cannot use compiled code, falling back to the numpy code generation target. Note that this will likely be slower than using compiled code. Set the code generation to numpy manually to avoid this message:\n",
      "prefs.codegen.target = \"numpy\" [brian2.devices.device.codegen_fallback]\n"
     ]
    }
   ],
   "source": [
    "# recreate the simulation used in Ocker 2015\n",
    "\n",
    "start_scope()\n",
    "\n",
    "# model parameters\n",
    "gL = .1 * msiemens * cm**-2 # leak conductance\n",
    "vL = -72 * mV               # leak reversal potential\n",
    "C = 1 * ufarad * cm**-2     # membrane capacitance\n",
    "delta = 1.4 * mV            # action potential steepness\n",
    "vT = -48 * mV               # action potential initiation threshold\n",
    "mu = 1 * uamp * cm**-2      # noise mean\n",
    "sigma = 9 * mV              # noise std dev\n",
    "tau_s = 5 * ms              # synaptic time constant\n",
    "\n",
    "# other cell params\n",
    "vTh = 30 * mV               # spike threshold\n",
    "vR = -72 * mV               # reset potential\n",
    "tRef = 2 * ms               # action potential width (refractory time)\n",
    "\n",
    "# network params\n",
    "p = 0.15                    # connection density\n",
    "N_network = 1000                     # number of neurons\n",
    "\n",
    "# simulation params\n",
    "sim_time_ms = 1000 * 60 * 60                # simulation time in ms\n",
    "monitor_dt_ms = sim_time_ms / 100   # timestep for monitor evaluation\n",
    "\n",
    "# model\n",
    "dynamics = '''\n",
    "dv/dt = (gL * (vL - v) + gL * delta * exp((v - vT) / delta) + (mu + gL * sigma * sqrt(2 * C / gL) * xi) + j_e) / C : volt (unless refractory)\n",
    "dj_e/dt = -j_e/tau_s : amp * meter ** -2\n",
    "'''\n",
    "\n",
    "G = NeuronGroup(N_network, dynamics, \n",
    "                threshold='v > vTh',\n",
    "                reset='v = vR',\n",
    "                refractory='tRef',\n",
    "                method='euler')\n",
    "\n",
    "synapses = Synapses(G, G,\n",
    "                    '''w : amp * meter**-2\n",
    "                        dApre/dt = -Apre / tauPre : amp * meter**-2 (event-driven)\n",
    "                        dApost/dt = -Apost / tauPost : amp * meter**-2 (event-driven)''',\n",
    "                    on_pre='''j_e += w\n",
    "                        Apre += dApre / (N_network*p)\n",
    "                        w = clip(w + Apost, 0, wMax)''',\n",
    "                    on_post='''Apost += dApost / (N_network*p)\n",
    "                        w = clip(w + Apre, 0, wMax)''')\n",
    "           \n",
    "# connect synapses\n",
    "#synapses.connect(condition='i!=j', p=p)\n",
    "# erg = nx.erdos_renyi_graph(N_network, p, directed=True)#use erdos renyi random graph to determine synapse connections\n",
    "num_synapses = 0\n",
    "# for i in range(0, erg.number_of_nodes()):\n",
    "#     nbs = [n for n in erg.neighbors(i)]\n",
    "#     synapses.connect(i=[i], j=nbs) #connect neuron i to appropriate neighbors indicated in the erdos renyi graph\n",
    "#     num_synapses += len(nbs)\n",
    "for i in range(N_network):\n",
    "    for j in range(N_network):\n",
    "        if i != j:\n",
    "            if np.random.rand() < p:\n",
    "                synapses.connect(i=i, j=j)\n",
    "                num_synapses += 1\n",
    "\n",
    "# get connection density (for use in STDP params)\n",
    "p0 = p #compute_p0(G, synapses)\n",
    "# print(p0)\n",
    "\n",
    "# stdp params\n",
    "wMax = 5 * uamp * cm**-2   # max syn weight\n",
    "tauPre = 5 * ms #15 * ms            # synaptic time constant\n",
    "tauPost = 5 * ms #2 * tauPre        # synaptic time constant\n",
    "# dApost = -wMax / 5 / N              # f neg (f post)\n",
    "# dApre = -dApost * tauPost / tauPre  # f pos (f pre)\n",
    "dApre = .01\n",
    "dApost = -dApre * tauPre / tauPost * 1.05\n",
    "dApost *= wMax\n",
    "dApre *= wMax\n",
    "\n",
    "# assign synaptic weights\n",
    "# mu_w0 = wMax / 3\n",
    "# sigma_w0 = wMax / 20\n",
    "# synapses.w = 'mu_w0 + (0.5 - rand()) * sigma_w0'\n",
    "synapses.w = \"rand() * wMax * 2 / (p0 * N_network)\"\n",
    "\n",
    "# monitors\n",
    "#v_mon = StateMonitor(G, 'v', record=True)\n",
    "sp_mon_exc = SpikeMonitor(G)\n",
    "w_mon = StateMonitor(synapses, 'w', record=range(num_synapses), dt=monitor_dt_ms * ms)\n",
    "# record=True, dt=monitor_dt_ms * ms)\n",
    "\n",
    "# initial voltage values\n",
    "for i in range(0, N_network):\n",
    "    G[i].v = (np.random.normal(0, 1)*(vTh-vR)) #initial membrane potential for each neuron in neuron group\n",
    "\n",
    "#\n",
    "# run simulation\n",
    "#\n",
    "run(sim_time_ms * ms, report='text')\n",
    "\n",
    "# plots\n",
    "#plot_v(v_mon, sp_mon_exc, 0, True)\n",
    "#plot_spike_trains(sp_mon_exc)\n"
   ]
  },
  {
   "cell_type": "code",
   "execution_count": null,
   "metadata": {},
   "outputs": [],
   "source": [
    "# more plots\n",
    "plot_avg_syn_weight(w_mon, wMax)\n",
    "\n",
    "# figure 7\n",
    "plot_motif_dynamics(w_mon, synapses, N_network, False)"
   ]
  },
  {
   "cell_type": "code",
   "execution_count": null,
   "metadata": {},
   "outputs": [],
   "source": [
    "plot_spike_trains(sp_mon_exc)\n"
   ]
  },
  {
   "cell_type": "code",
   "execution_count": null,
   "metadata": {},
   "outputs": [],
   "source": []
  }
 ],
 "metadata": {
  "kernelspec": {
   "display_name": "Python 3",
   "language": "python",
   "name": "python3"
  },
  "language_info": {
   "codemirror_mode": {
    "name": "ipython",
    "version": 3
   },
   "file_extension": ".py",
   "mimetype": "text/x-python",
   "name": "python",
   "nbconvert_exporter": "python",
   "pygments_lexer": "ipython3",
   "version": "3.6.7"
  }
 },
 "nbformat": 4,
 "nbformat_minor": 2
}
