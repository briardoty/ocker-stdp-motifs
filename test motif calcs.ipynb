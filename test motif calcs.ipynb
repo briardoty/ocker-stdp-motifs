{
 "cells": [
  {
   "cell_type": "code",
   "execution_count": 1,
   "metadata": {},
   "outputs": [],
   "source": [
    "from util.analysis_functions import *\n",
    "import numpy as np"
   ]
  },
  {
   "cell_type": "code",
   "execution_count": 5,
   "metadata": {},
   "outputs": [
    {
     "name": "stdout",
     "output_type": "stream",
     "text": [
      "0.15\n",
      "-0.0034999999999999996\n",
      "0.010500000000000002\n",
      "0.020499999999999997\n",
      "-0.0024999999999999988\n"
     ]
    }
   ],
   "source": [
    "N = 10\n",
    "W = np.matrix('0,1,0,0,0,0,0,0,0,1;1,0,0,1,0,0,0,0,0,1;1,0,0,0,0,0,0,0,0,0;0,0,0,0,0,0,0,0,0,0;0,0,0,1,0,1,0,0,0,0;1,1,0,0,0,0,0,0,0,1;0,0,0,0,0,0,0,0,0,0;0,0,0,0,0,0,1,0,0,0;0,0,0,0,0,0,1,0,0,1;0,0,0,1,0,0,0,0,0,0')\n",
    "(p, q_div, q_con, q_ch, q_rec) = compute_motif_stats_from_matrix(W, N)\n",
    "print(p)\n",
    "print(q_ch)\n",
    "print(q_con)\n",
    "print(q_div)\n",
    "print(q_rec)"
   ]
  },
  {
   "cell_type": "code",
   "execution_count": null,
   "metadata": {},
   "outputs": [],
   "source": []
  }
 ],
 "metadata": {
  "kernelspec": {
   "display_name": "Python 3",
   "language": "python",
   "name": "python3"
  },
  "language_info": {
   "codemirror_mode": {
    "name": "ipython",
    "version": 3
   },
   "file_extension": ".py",
   "mimetype": "text/x-python",
   "name": "python",
   "nbconvert_exporter": "python",
   "pygments_lexer": "ipython3",
   "version": "3.7.5"
  }
 },
 "nbformat": 4,
 "nbformat_minor": 2
}
