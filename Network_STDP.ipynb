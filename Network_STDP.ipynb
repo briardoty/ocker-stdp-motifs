{
 "cells": [
  {
   "cell_type": "code",
   "execution_count": 1,
   "metadata": {},
   "outputs": [],
   "source": [
    "from brian2 import *\n",
    "# set_device('cpp_standalone', directory='network_STDP', clean=True) # for C speedup"
   ]
  },
  {
   "cell_type": "code",
   "execution_count": 35,
   "metadata": {
    "scrolled": true
   },
   "outputs": [],
   "source": [
    "'''\n",
    "Spike-timing dependent plasticity.\n",
    "Adapted from Song, Miller and Abbott (2000) and Song and Abbott (2001).\n",
    "\n",
    "This example is modified from ``synapses_STDP.py`` and writes a standalone\n",
    "C++ project in the directory ``STDP_standalone``.\n",
    "'''\n",
    "start_scope()\n",
    "\n",
    "Npois = 2000    # Number of poisson group neurons\n",
    "F = 12*Hz    # Poisson stim frequency\n",
    "\n",
    "Nexcit = 100    # Number of excitatory neurons\n",
    "Ninhib = 50 #Nexcit//2    # Number of inhibitory neurons\n",
    "taui = taue = 5*ms    # Excitatory and inhibitory time decay\n",
    "\n",
    "taum = 10*ms    # Neuron voltage time constant\n",
    "refrac = 0*ms    # Refractory period\n",
    "Ee = 0*mV    # Excitatory voltage\n",
    "Ei = -70*mV    # Inhibitory voltage\n",
    "Er = -74*mV    # Resting potential\n",
    "vt = -54*mV    # Threshold value\n",
    "vr = -60*mV    # Reset voltage\n",
    "\n",
    "\n",
    "taupre = taupost = 20*ms    # STDP time contant\n",
    "gmax = .01    # Maximum synaptic strength\n",
    "dApre = .01 \n",
    "dApost = -dApre * taupre / taupost * 1.05\n",
    "dApost *= gmax\n",
    "dApre *= gmax\n",
    "\n",
    "run_length = 1    # Run time in seconds\n",
    "\n",
    "eqs_neurons = '''\n",
    "dv/dt = (ge * (Ee-vr) + gi * (Ei-vr) + Er - v) / taum : volt (unless refractory)\n",
    "dge/dt = -ge / taue : 1\n",
    "dgi/dt = -gi / taui : 1\n",
    "'''\n",
    "\n",
    "### Declare neurons ###\n",
    "delta_t = .1*second\n",
    "times_a = np.arange(0, run_length, .1)*second\n",
    "times_b = times_a + delta_t\n",
    "\n",
    "stim_neuron_a = SpikeGeneratorGroup(1, [0]*len(times_a), times_a)\n",
    "\n",
    "stimmer_neuron_b = SpikeGeneratorGroup(1, [0]*len(times_b), times_b)\n",
    "\n",
    "background = PoissonGroup(Npois, rates = F)\n",
    "\n",
    "neurons = NeuronGroup(Nexcit+Ninhib, eqs_neurons, threshold='v>vt', reset='v=vr',\n",
    "                      refractory=refrac, method='exact')\n",
    "\n",
    "neuron_b = neurons[Ninhib+Nexcit-1]\n",
    "excit = neurons[:Nexcit]\n",
    "inhib = neurons[Nexcit:(Nexcit+Ninhib-1)]\n",
    "\n",
    "### Connect neurons ###\n",
    "con_stimmer_b_b = Synapses(stimmer_neuron_b, neuron_b,\n",
    "                  '''w = 1 : 1\n",
    "                dApre/dt = -Apre / taupre : 1 (event-driven)\n",
    "                dApost/dt = -Apost / taupost : 1 (event-driven)''',\n",
    "             on_pre='''ge += w\n",
    "                    Apre += dApre''',\n",
    "             on_post='''Apost += dApost''')\n",
    "con_stimmer_b_b.connect()\n",
    "\n",
    "con_stim_a_all = Synapses(stim_neuron_a, neurons[:(Nexcit+Ninhib-1)],\n",
    "                  '''w = 1 : 1\n",
    "                dApre/dt = -Apre / taupre : 1 (event-driven)\n",
    "                dApost/dt = -Apost / taupost : 1 (event-driven)''',\n",
    "             on_pre='''ge += w\n",
    "                    Apre += dApre''',\n",
    "             on_post='''Apost += dApost''')\n",
    "con_stim_a_all.connect(p=.1)\n",
    "\n",
    "con_background_all = Synapses(background, neurons,\n",
    "                  '''w : 1\n",
    "                dApre/dt = -Apre / taupre : 1 (event-driven)\n",
    "                dApost/dt = -Apost / taupost : 1 (event-driven)''',\n",
    "             on_pre='''ge += w\n",
    "                    Apre += dApre\n",
    "                    w = clip(w + Apost, 0, gmax)''',\n",
    "             on_post='''Apost += dApost\n",
    "                     w = clip(w + Apre, 0, gmax)''')\n",
    "con_background_all.connect(p=.5)\n",
    "\n",
    "con_excit_all = Synapses(excit, neurons,\n",
    "                '''w : 1\n",
    "                dApre/dt = -Apre / taupre : 1 (event-driven)\n",
    "                dApost/dt = -Apost / taupost : 1 (event-driven)''',\n",
    "             on_pre='''ge += w\n",
    "                    Apre += dApre\n",
    "                    w = clip(w + Apost, 0, gmax)''',\n",
    "             on_post='''Apost += dApost\n",
    "                     w = clip(w + Apre, 0, gmax)''')\n",
    "con_excit_all.connect(p=.2)\n",
    "\n",
    "con_inhib_all = Synapses(inhib, neurons,\n",
    "                   '''w : 1''',\n",
    "              on_pre = '''gi +=w ''')\n",
    "con_inhib_all.connect(p=.2)\n",
    "\n",
    "con_background_all.w = 'rand() * gmax'\n",
    "con_excit_all.w = 'rand() * gmax'\n",
    "con_inhib_all.w = 'rand() * gmax'\n",
    "neurons.v = 'rand() * Er'\n",
    "\n",
    "# w_mon_toB = StateMonitor(con_nn, 'w', record = range(Nexcit))\n",
    "sp_mon_excit = SpikeMonitor(excit)\n",
    "sp_mon_inhib = SpikeMonitor(inhib)\n",
    "sp_mon_a = SpikeMonitor(stim_neuron_a)\n",
    "sp_mon_b = SpikeMonitor(neuron_b)"
   ]
  },
  {
   "cell_type": "code",
   "execution_count": 36,
   "metadata": {
    "scrolled": true
   },
   "outputs": [
    {
     "name": "stdout",
     "output_type": "stream",
     "text": [
      "Starting simulation at t=0. s for a duration of 1. s\n",
      "1.0 (100%) simulated in 7s\n"
     ]
    }
   ],
   "source": [
    "# Simulation running block\n",
    "run(run_length*second, report='text')"
   ]
  },
  {
   "cell_type": "code",
   "execution_count": 38,
   "metadata": {
    "scrolled": true
   },
   "outputs": [
    {
     "data": {
      "text/plain": [
       "[<matplotlib.lines.Line2D at 0x1197f5828>]"
      ]
     },
     "execution_count": 38,
     "metadata": {},
     "output_type": "execute_result"
    },
    {
     "data": {
      "image/png": "[encoded data removed]",
      "text/plain": [
       "<Figure size 720x360 with 1 Axes>"
      ]
     },
     "metadata": {
      "needs_background": "light"
     },
     "output_type": "display_data"
    }
   ],
   "source": [
    "plt.figure(figsize=(10, 5))\n",
    "# plot(sp_mon_a.t/second, sp_mon_a.i+1, '|g')\n",
    "# plot(sp_mon_b.t/second, sp_mon_b.i+2, '|r')\n",
    "plot(sp_mon_excit.t/second, sp_mon_excit.i, '|r')\n",
    "plot(sp_mon_inhib.t/second, sp_mon_inhib.i+Nexcit, '|k')"
   ]
  }
 ],
 "metadata": {
  "kernelspec": {
   "display_name": "Python 3",
   "language": "python",
   "name": "python3"
  },
  "language_info": {
   "codemirror_mode": {
    "name": "ipython",
    "version": 3
   },
   "file_extension": ".py",
   "mimetype": "text/x-python",
   "name": "python",
   "nbconvert_exporter": "python",
   "pygments_lexer": "ipython3",
   "version": "3.6.7"
  }
 },
 "nbformat": 4,
 "nbformat_minor": 2
}
